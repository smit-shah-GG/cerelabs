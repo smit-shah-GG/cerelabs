{
 "cells": [
  {
   "cell_type": "code",
   "execution_count": 1,
   "metadata": {},
   "outputs": [
    {
     "name": "stderr",
     "output_type": "stream",
     "text": [
      "C:\\Users\\Smit\\AppData\\Local\\Packages\\PythonSoftwareFoundation.Python.3.11_qbz5n2kfra8p0\\LocalCache\\local-packages\\Python311\\site-packages\\tqdm\\auto.py:21: TqdmWarning: IProgress not found. Please update jupyter and ipywidgets. See https://ipywidgets.readthedocs.io/en/stable/user_install.html\n",
      "  from .autonotebook import tqdm as notebook_tqdm\n"
     ]
    }
   ],
   "source": [
    "import pathlib\n",
    "import textwrap\n",
    "\n",
    "import google.generativeai as genai"
   ]
  },
  {
   "cell_type": "code",
   "execution_count": 2,
   "metadata": {},
   "outputs": [],
   "source": [
    "from IPython.display import display\n",
    "from IPython.display import Markdown\n",
    "\n",
    "\n",
    "def to_markdown(text):\n",
    "  text = text.replace('•', '  *')\n",
    "  return Markdown(textwrap.indent(text, '> ', predicate=lambda _: True))\n"
   ]
  },
  {
   "cell_type": "code",
   "execution_count": 3,
   "metadata": {},
   "outputs": [],
   "source": [
    "text_file = r\"E:\\Work\\sem5backups\\localdata\\google_apikey.txt\"\n",
    "\n",
    "with open(text_file, \"r\") as f:\n",
    "    api_key = f.read().strip()"
   ]
  },
  {
   "cell_type": "code",
   "execution_count": 5,
   "metadata": {},
   "outputs": [],
   "source": [
    "genai.configure(api_key=api_key)\n"
   ]
  },
  {
   "cell_type": "code",
   "execution_count": 6,
   "metadata": {},
   "outputs": [
    {
     "name": "stdout",
     "output_type": "stream",
     "text": [
      "models/gemini-pro\n",
      "models/gemini-pro-vision\n"
     ]
    }
   ],
   "source": [
    "for m in genai.list_models():\n",
    "  if 'generateContent' in m.supported_generation_methods:\n",
    "    print(m.name)\n"
   ]
  },
  {
   "cell_type": "code",
   "execution_count": 7,
   "metadata": {},
   "outputs": [],
   "source": [
    "model = genai.GenerativeModel('gemini-pro')\n"
   ]
  },
  {
   "cell_type": "code",
   "execution_count": 8,
   "metadata": {},
   "outputs": [
    {
     "name": "stdout",
     "output_type": "stream",
     "text": [
      "CPU times: total: 0 ns\n",
      "Wall time: 7.95 s\n"
     ]
    }
   ],
   "source": [
    "%%time\n",
    "response = model.generate_content(\"What is the meaning of life?\")\n"
   ]
  },
  {
   "cell_type": "code",
   "execution_count": 9,
   "metadata": {},
   "outputs": [
    {
     "data": {
      "text/markdown": [
       "> The meaning of life is a deeply philosophical question that has been pondered by humans for centuries. There is no one definitive answer that is universally agreed upon, and the meaning of life can vary from person to person. Some common themes that emerge when considering the meaning of life include:\n",
       "> \n",
       "> 1. **Purpose and Fulfillment:** Many people find meaning and fulfillment in their lives through work, relationships, hobbies, or other activities that give them a sense of purpose and accomplishment. Some may find meaning in contributing to society or making a difference in the world.\n",
       "> \n",
       "> 2. **Happiness and Well-being:** For many people, happiness and well-being are central to their understanding of the meaning of life. They may seek out activities and experiences that bring them joy, contentment, and fulfillment.\n",
       "> \n",
       "> 3. **Love and Connection:** For many people, love and connection with others, whether it's family, friends, or romantic partners, is a major source of meaning and purpose in life. Building strong and meaningful relationships can contribute to a sense of belonging and fulfillment.\n",
       "> \n",
       "> 4. **Personal Growth and Self-actualization:** Some people find meaning in the journey of personal growth and self-actualization. They may seek out challenges, learn new skills, and strive to become the best version of themselves.\n",
       "> \n",
       "> 5. **Spiritual or Religious Beliefs:** For many people, spiritual or religious beliefs provide a framework for understanding the meaning of life. They may find meaning and purpose through rituals, practices, and beliefs that connect them to a higher power or a larger spiritual community.\n",
       "> \n",
       "> 6. **Legacy and Impact:** Some people find meaning in leaving a legacy or making an impact on the world. They may seek to contribute to society through their work, art, activism, or other endeavors that will have a lasting impact beyond their own lifetime.\n",
       "> \n",
       "> Ultimately, the meaning of life is a personal and subjective matter, and what one person finds meaningful may not be the same for another. It is a question that can be explored and contemplated throughout one's life, and there is no single, universally accepted answer."
      ],
      "text/plain": [
       "<IPython.core.display.Markdown object>"
      ]
     },
     "execution_count": 9,
     "metadata": {},
     "output_type": "execute_result"
    }
   ],
   "source": [
    "to_markdown(response.text)\n"
   ]
  },
  {
   "cell_type": "code",
   "execution_count": 10,
   "metadata": {},
   "outputs": [
    {
     "data": {
      "text/plain": [
       "\"The meaning of life is a deeply philosophical question that has been pondered by humans for centuries. There is no one definitive answer that is universally agreed upon, and the meaning of life can vary from person to person. Some common themes that emerge when considering the meaning of life include:\\n\\n1. **Purpose and Fulfillment:** Many people find meaning and fulfillment in their lives through work, relationships, hobbies, or other activities that give them a sense of purpose and accomplishment. Some may find meaning in contributing to society or making a difference in the world.\\n\\n2. **Happiness and Well-being:** For many people, happiness and well-being are central to their understanding of the meaning of life. They may seek out activities and experiences that bring them joy, contentment, and fulfillment.\\n\\n3. **Love and Connection:** For many people, love and connection with others, whether it's family, friends, or romantic partners, is a major source of meaning and purpose in life. Building strong and meaningful relationships can contribute to a sense of belonging and fulfillment.\\n\\n4. **Personal Growth and Self-actualization:** Some people find meaning in the journey of personal growth and self-actualization. They may seek out challenges, learn new skills, and strive to become the best version of themselves.\\n\\n5. **Spiritual or Religious Beliefs:** For many people, spiritual or religious beliefs provide a framework for understanding the meaning of life. They may find meaning and purpose through rituals, practices, and beliefs that connect them to a higher power or a larger spiritual community.\\n\\n6. **Legacy and Impact:** Some people find meaning in leaving a legacy or making an impact on the world. They may seek to contribute to society through their work, art, activism, or other endeavors that will have a lasting impact beyond their own lifetime.\\n\\nUltimately, the meaning of life is a personal and subjective matter, and what one person finds meaningful may not be the same for another. It is a question that can be explored and contemplated throughout one's life, and there is no single, universally accepted answer.\""
      ]
     },
     "execution_count": 10,
     "metadata": {},
     "output_type": "execute_result"
    }
   ],
   "source": [
    "response.text"
   ]
  },
  {
   "cell_type": "code",
   "execution_count": 11,
   "metadata": {},
   "outputs": [
    {
     "data": {
      "text/plain": [
       "safety_ratings {\n",
       "  category: HARM_CATEGORY_SEXUALLY_EXPLICIT\n",
       "  probability: NEGLIGIBLE\n",
       "}\n",
       "safety_ratings {\n",
       "  category: HARM_CATEGORY_HATE_SPEECH\n",
       "  probability: NEGLIGIBLE\n",
       "}\n",
       "safety_ratings {\n",
       "  category: HARM_CATEGORY_HARASSMENT\n",
       "  probability: NEGLIGIBLE\n",
       "}\n",
       "safety_ratings {\n",
       "  category: HARM_CATEGORY_DANGEROUS_CONTENT\n",
       "  probability: NEGLIGIBLE\n",
       "}"
      ]
     },
     "execution_count": 11,
     "metadata": {},
     "output_type": "execute_result"
    }
   ],
   "source": [
    "response.prompt_feedback\n"
   ]
  },
  {
   "cell_type": "code",
   "execution_count": 12,
   "metadata": {},
   "outputs": [
    {
     "data": {
      "text/plain": [
       "[index: 0\n",
       "content {\n",
       "  parts {\n",
       "    text: \"The meaning of life is a deeply philosophical question that has been pondered by humans for centuries. There is no one definitive answer that is universally agreed upon, and the meaning of life can vary from person to person. Some common themes that emerge when considering the meaning of life include:\\n\\n1. **Purpose and Fulfillment:** Many people find meaning and fulfillment in their lives through work, relationships, hobbies, or other activities that give them a sense of purpose and accomplishment. Some may find meaning in contributing to society or making a difference in the world.\\n\\n2. **Happiness and Well-being:** For many people, happiness and well-being are central to their understanding of the meaning of life. They may seek out activities and experiences that bring them joy, contentment, and fulfillment.\\n\\n3. **Love and Connection:** For many people, love and connection with others, whether it\\'s family, friends, or romantic partners, is a major source of meaning and purpose in life. Building strong and meaningful relationships can contribute to a sense of belonging and fulfillment.\\n\\n4. **Personal Growth and Self-actualization:** Some people find meaning in the journey of personal growth and self-actualization. They may seek out challenges, learn new skills, and strive to become the best version of themselves.\\n\\n5. **Spiritual or Religious Beliefs:** For many people, spiritual or religious beliefs provide a framework for understanding the meaning of life. They may find meaning and purpose through rituals, practices, and beliefs that connect them to a higher power or a larger spiritual community.\\n\\n6. **Legacy and Impact:** Some people find meaning in leaving a legacy or making an impact on the world. They may seek to contribute to society through their work, art, activism, or other endeavors that will have a lasting impact beyond their own lifetime.\\n\\nUltimately, the meaning of life is a personal and subjective matter, and what one person finds meaningful may not be the same for another. It is a question that can be explored and contemplated throughout one\\'s life, and there is no single, universally accepted answer.\"\n",
       "  }\n",
       "  role: \"model\"\n",
       "}\n",
       "finish_reason: STOP\n",
       "safety_ratings {\n",
       "  category: HARM_CATEGORY_SEXUALLY_EXPLICIT\n",
       "  probability: NEGLIGIBLE\n",
       "}\n",
       "safety_ratings {\n",
       "  category: HARM_CATEGORY_HATE_SPEECH\n",
       "  probability: NEGLIGIBLE\n",
       "}\n",
       "safety_ratings {\n",
       "  category: HARM_CATEGORY_HARASSMENT\n",
       "  probability: NEGLIGIBLE\n",
       "}\n",
       "safety_ratings {\n",
       "  category: HARM_CATEGORY_DANGEROUS_CONTENT\n",
       "  probability: NEGLIGIBLE\n",
       "}\n",
       "]"
      ]
     },
     "execution_count": 12,
     "metadata": {},
     "output_type": "execute_result"
    }
   ],
   "source": [
    "response.candidates\n"
   ]
  },
  {
   "cell_type": "code",
   "execution_count": null,
   "metadata": {},
   "outputs": [],
   "source": []
  }
 ],
 "metadata": {
  "kernelspec": {
   "display_name": "Python 3",
   "language": "python",
   "name": "python3"
  },
  "language_info": {
   "codemirror_mode": {
    "name": "ipython",
    "version": 3
   },
   "file_extension": ".py",
   "mimetype": "text/x-python",
   "name": "python",
   "nbconvert_exporter": "python",
   "pygments_lexer": "ipython3",
   "version": "3.11.7"
  }
 },
 "nbformat": 4,
 "nbformat_minor": 2
}
